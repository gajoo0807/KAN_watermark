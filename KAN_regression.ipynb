{
  "cells": [
    {
      "cell_type": "markdown",
      "metadata": {
        "id": "_iPv5Nnr8iGf"
      },
      "source": [
        "# Implementation of a KAN for regression\n",
        "In this notebook I implement a Kolmogorov-Arnold Network (KAN) for the use of regression and compare it against a neural network of a similar architecture."
      ]
    },
    {
      "cell_type": "markdown",
      "metadata": {
        "id": "LRMpDTp_cVt5"
      },
      "source": [
        "## Initialisations"
      ]
    },
    {
      "cell_type": "code",
      "execution_count": 1,
      "metadata": {
        "colab": {
          "base_uri": "https://localhost:8080/"
        },
        "id": "t1n3Plr3bvLI",
        "outputId": "7a4d2b6c-f566-4732-9a67-d6e3cde362af"
      },
      "outputs": [
        {
          "name": "stdout",
          "output_type": "stream",
          "text": [
            "Collecting pykan\n",
            "  Downloading pykan-0.0.5-py3-none-any.whl (33 kB)\n",
            "Installing collected packages: pykan\n",
            "Successfully installed pykan-0.0.5\n"
          ]
        }
      ],
      "source": [
        "!pip install pykan"
      ]
    },
    {
      "cell_type": "code",
      "execution_count": 1,
      "metadata": {
        "colab": {
          "base_uri": "https://localhost:8080/"
        },
        "id": "qrVEGBzEcUQc",
        "outputId": "0ffd8432-65a5-4d4f-9c76-5e682ff9a386"
      },
      "outputs": [
        {
          "name": "stdout",
          "output_type": "stream",
          "text": [
            "cuda\n"
          ]
        }
      ],
      "source": [
        "import torch\n",
        "from kan import *\n",
        "import matplotlib.pyplot as plt\n",
        "from sklearn.datasets import fetch_california_housing\n",
        "from sklearn.model_selection import train_test_split\n",
        "from tqdm import tqdm\n",
        "from sklearn.preprocessing import StandardScaler\n",
        "\n",
        "if torch.cuda.is_available():\n",
        "  device = torch.device(\"cuda\")\n",
        "else:\n",
        "  device = torch.device(\"cpu\")\n",
        "\n",
        "print(device)"
      ]
    },
    {
      "cell_type": "markdown",
      "metadata": {
        "id": "7RE1svm9cXkX"
      },
      "source": [
        "## Loading the Dataset"
      ]
    },
    {
      "cell_type": "code",
      "execution_count": 2,
      "metadata": {
        "colab": {
          "base_uri": "https://localhost:8080/"
        },
        "id": "wMwDaT0icUJD",
        "outputId": "313d1117-4c58-4ecf-a68b-bf1116a80d34"
      },
      "outputs": [
        {
          "name": "stderr",
          "output_type": "stream",
          "text": [
            "100%|██████████| 16512/16512 [00:01<00:00, 13091.51it/s]\n",
            "100%|██████████| 4128/4128 [00:00<00:00, 12972.79it/s]\n"
          ]
        }
      ],
      "source": [
        "def load_calhous_dataset():\n",
        "    # Load California housing dataset\n",
        "    calhous = fetch_california_housing()\n",
        "    data = calhous.data\n",
        "    target = calhous.target\n",
        "\n",
        "    scaler = StandardScaler()\n",
        "    data = scaler.fit_transform(data)\n",
        "\n",
        "    # Convert to PyTorch tensors\n",
        "    data_tensor = torch.tensor(data, dtype=torch.float32)\n",
        "    target_tensor = torch.tensor(target, dtype=torch.float32)\n",
        "\n",
        "    # Split dataset into train and test sets\n",
        "    train_data, test_data, train_target, test_target = train_test_split(data_tensor, target_tensor, test_size=0.2, random_state=42)\n",
        "\n",
        "    # Create data loaders (optional, if you want to batch and shuffle the data)\n",
        "    train_loader = torch.utils.data.DataLoader(torch.utils.data.TensorDataset(train_data, train_target), batch_size=1, shuffle=True)\n",
        "    test_loader = torch.utils.data.DataLoader(torch.utils.data.TensorDataset(test_data, test_target), batch_size=1, shuffle=False)\n",
        "\n",
        "    train_inputs = torch.empty(0, 8, device=device)\n",
        "    train_labels = torch.empty(0, dtype=torch.long, device=device)\n",
        "    test_inputs = torch.empty(0, 8, device=device)\n",
        "    test_labels = torch.empty(0, dtype=torch.long, device=device)\n",
        "\n",
        "    # Concatenate all data into a single tensor on the specified device\n",
        "    for data, labels in tqdm(train_loader):\n",
        "        train_inputs = torch.cat((train_inputs, data.to(device)), dim=0)\n",
        "        train_labels = torch.cat((train_labels, labels.to(device)), dim=0)\n",
        "\n",
        "    for data, labels in tqdm(test_loader):\n",
        "        test_inputs = torch.cat((test_inputs, data.to(device)), dim=0)\n",
        "        test_labels = torch.cat((test_labels, labels.to(device)), dim=0)\n",
        "\n",
        "    dataset = {}\n",
        "    dataset['train_input'] = train_inputs\n",
        "    dataset['test_input'] = test_inputs\n",
        "    dataset['train_label'] = train_labels.reshape(-1, 1)\n",
        "    dataset['test_label'] = test_labels.reshape(-1, 1)\n",
        "\n",
        "    return dataset\n",
        "\n",
        "calhous_dataset = load_calhous_dataset()"
      ]
    },
    {
      "cell_type": "code",
      "execution_count": 3,
      "metadata": {
        "colab": {
          "base_uri": "https://localhost:8080/"
        },
        "id": "wDBtdgGocUHM",
        "outputId": "c5c54a1a-0367-4d0b-988f-d8040ed25a1b"
      },
      "outputs": [
        {
          "name": "stdout",
          "output_type": "stream",
          "text": [
            "Train data shape: torch.Size([16512, 8])\n",
            "Train target shape: torch.Size([16512, 1])\n",
            "Test data shape: torch.Size([4128, 8])\n",
            "Test target shape: torch.Size([4128, 1])\n",
            "====================================\n"
          ]
        }
      ],
      "source": [
        "print(\"Train data shape: {}\".format(calhous_dataset['train_input'].shape))\n",
        "print(\"Train target shape: {}\".format(calhous_dataset['train_label'].shape))\n",
        "print(\"Test data shape: {}\".format(calhous_dataset['test_input'].shape))\n",
        "print(\"Test target shape: {}\".format(calhous_dataset['test_label'].shape))\n",
        "print(\"====================================\")"
      ]
    },
    {
      "cell_type": "markdown",
      "metadata": {
        "id": "D7ERosp1iM17"
      },
      "source": [
        "## Creating and Training the KAN"
      ]
    },
    {
      "cell_type": "code",
      "execution_count": 4,
      "metadata": {
        "id": "xkjQDBTnNFHw"
      },
      "outputs": [],
      "source": [
        "image_folder = 'video_img'\n",
        "\n",
        "model = KAN(width=[8, 3, 1], grid=3, k=3, seed=5, device=device)"
      ]
    },
    {
      "cell_type": "code",
      "execution_count": 5,
      "metadata": {
        "colab": {
          "base_uri": "https://localhost:8080/"
        },
        "id": "OhNKU6T1iLWe",
        "outputId": "c1050905-cf4e-428f-ff3f-80d82944b34d"
      },
      "outputs": [
        {
          "name": "stderr",
          "output_type": "stream",
          "text": [
            "train loss: 6.03e-01 | test loss: 6.21e-01 | reg: 4.07e+00 : 100%|██| 50/50 [02:02<00:00,  2.45s/it]\n"
          ]
        }
      ],
      "source": [
        "def train_mse():\n",
        "    with torch.no_grad():\n",
        "        predictions = model(calhous_dataset['train_input'])\n",
        "        mse = torch.nn.functional.mse_loss(predictions, calhous_dataset['train_label'])\n",
        "    return mse\n",
        "\n",
        "def test_mse():\n",
        "    with torch.no_grad():\n",
        "        predictions = model(calhous_dataset['test_input'])\n",
        "        mse = torch.nn.functional.mse_loss(predictions, calhous_dataset['test_label'])\n",
        "    return mse\n",
        "\n",
        "results = model.train(calhous_dataset, opt=\"LBFGS\", device=device, metrics=(train_mse, test_mse),\n",
        "                      loss_fn=torch.nn.MSELoss(), steps=50, lamb=0.01, lamb_entropy=2., save_fig=True, img_folder=image_folder)"
      ]
    },
    {
      "cell_type": "code",
      "execution_count": 6,
      "metadata": {
        "colab": {
          "base_uri": "https://localhost:8080/"
        },
        "id": "J8hG6q3zujPG",
        "outputId": "2a99f4b0-896f-47b2-a980-cdfb6a314f11"
      },
      "outputs": [
        {
          "name": "stdout",
          "output_type": "stream",
          "text": [
            "Train MSE: 0.3672870099544525, Test MSE: 0.3877827823162079\n"
          ]
        }
      ],
      "source": [
        "print(f\"Train MSE: {results['train_mse'][-1]}, Test MSE: {results['test_mse'][-1]}\")"
      ]
    },
    {
      "cell_type": "code",
      "execution_count": 7,
      "metadata": {},
      "outputs": [
        {
          "name": "stdout",
          "output_type": "stream",
          "text": [
            "[0.0383608341217041, 0.009220361709594727, 0.009132146835327148, 0.009020090103149414, 0.009058475494384766, 0.008980751037597656, 0.009069204330444336, 0.00900888442993164, 0.008994102478027344, 0.008998870849609375, 0.008983373641967773]\n",
            "0.009046626091003419\n"
          ]
        },
        {
          "name": "stderr",
          "output_type": "stream",
          "text": [
            "/home/ab95113/anaconda3/envs/ldm/lib/python3.9/site-packages/kan/KAN.py:327: UserWarning: std(): degrees of freedom is <= 0. Correction should be strictly less than the reduction factor (input numel divided by output numel). (Triggered internally at /opt/conda/conda-bld/pytorch_1711403380164/work/aten/src/ATen/native/ReduceOps.cpp:1760.)\n",
            "  self.acts_scale_std.append(torch.std(postacts, dim=0))\n"
          ]
        }
      ],
      "source": [
        "def detect_inference_time():\n",
        "    import random\n",
        "    import time\n",
        "\n",
        "    # 从测试集中随机选择一个样本\n",
        "    index = random.randint(0, len(calhous_dataset['test_input']) - 1)\n",
        "    input_data = calhous_dataset['test_input'][index].unsqueeze(0)\n",
        "    label = calhous_dataset['test_label'][index]\n",
        "\n",
        "    # 将输入数据传入模型进行预测\n",
        "    start = time.time()\n",
        "    with torch.no_grad():\n",
        "        output = model(input_data)\n",
        "    end = time.time()\n",
        "    # print(f\"Inference time: {end - start} seconds\")\n",
        "    return end - start\n",
        "\n",
        "def print_act():\n",
        "    for i in model.acts_scale:\n",
        "        print(i)\n",
        "        print('\\n\\n')\n",
        "\n",
        "time = []\n",
        "for i in range(11):\n",
        "    time.append(detect_inference_time())\n",
        "print(time)\n",
        "print(sum(time[1:]) / (len(time)-1))\n",
        "# print_act()"
      ]
    },
    {
      "cell_type": "code",
      "execution_count": 115,
      "metadata": {},
      "outputs": [
        {
          "name": "stdout",
          "output_type": "stream",
          "text": [
            "fixing (0,0,0) with abs, r2=0.0\n",
            "fixing (0,0,1) with abs, r2=0.0\n",
            "fixing (0,0,2) with abs, r2=0.0\n",
            "fixing (0,1,0) with abs, r2=0.0\n",
            "fixing (0,1,1) with abs, r2=0.0\n",
            "fixing (0,1,2) with abs, r2=0.0\n",
            "fixing (0,2,0) with abs, r2=0.0\n",
            "fixing (0,2,1) with abs, r2=0.0\n",
            "fixing (0,2,2) with abs, r2=0.0\n",
            "fixing (0,3,0) with abs, r2=0.0\n",
            "fixing (0,3,1) with abs, r2=0.0\n",
            "fixing (0,3,2) with abs, r2=0.0\n",
            "fixing (0,4,0) with abs, r2=0.0\n",
            "fixing (0,4,1) with abs, r2=0.0\n",
            "fixing (0,4,2) with abs, r2=0.0\n",
            "fixing (0,5,0) with abs, r2=0.0\n",
            "fixing (0,5,1) with abs, r2=0.0\n",
            "fixing (0,5,2) with abs, r2=0.0\n",
            "fixing (0,6,0) with abs, r2=0.0\n",
            "fixing (0,6,1) with abs, r2=0.0\n",
            "fixing (0,6,2) with abs, r2=0.0\n",
            "fixing (0,7,0) with abs, r2=0.0\n",
            "fixing (0,7,1) with abs, r2=0.0\n",
            "fixing (0,7,2) with abs, r2=0.0\n",
            "fixing (1,0,0) with abs, r2=0.0\n",
            "fixing (1,1,0) with abs, r2=0.0\n",
            "fixing (1,2,0) with abs, r2=0.0\n"
          ]
        }
      ],
      "source": [
        "mode = \"auto\" # \"manual\"\n",
        "\n",
        "if mode == \"manual\":\n",
        "    # manual mode\n",
        "    model.fix_symbolic(0,0,0,'sin');\n",
        "    model.fix_symbolic(0,1,0,'x^2');\n",
        "    model.fix_symbolic(1,0,0,'exp');\n",
        "elif mode == \"auto\":\n",
        "    # automatic mode\n",
        "    lib = ['x','x^2','x^3','x^4','exp','log','sqrt','tanh','sin','abs']\n",
        "    model.auto_symbolic(lib=lib)"
      ]
    },
    {
      "cell_type": "code",
      "execution_count": 8,
      "metadata": {
        "colab": {
          "base_uri": "https://localhost:8080/",
          "height": 721
        },
        "id": "ll0aE1WW9FEK",
        "outputId": "ad5f27d7-a28b-4dde-9feb-e7ad93a1510b"
      },
      "outputs": [
        {
          "data": {
            "image/png": "[encoded data removed]",
            "text/plain": [
              "<Figure size 500x400 with 28 Axes>"
            ]
          },
          "metadata": {},
          "output_type": "display_data"
        }
      ],
      "source": [
        "model.plot()"
      ]
    },
    {
      "cell_type": "code",
      "execution_count": 29,
      "metadata": {
        "colab": {
          "base_uri": "https://localhost:8080/"
        },
        "id": "yPbmkBTBNSDe",
        "outputId": "dc4c7c69-c45a-4b56-d086-59b0a2f102f9"
      },
      "outputs": [
        {
          "name": "stdout",
          "output_type": "stream",
          "text": [
            "Moviepy - Building video video.mp4.\n",
            "Moviepy - Writing video video.mp4\n",
            "\n"
          ]
        },
        {
          "name": "stderr",
          "output_type": "stream",
          "text": [
            "                                                             "
          ]
        },
        {
          "name": "stdout",
          "output_type": "stream",
          "text": [
            "Moviepy - Done !\n",
            "Moviepy - video ready video.mp4\n"
          ]
        },
        {
          "name": "stderr",
          "output_type": "stream",
          "text": [
            "\r"
          ]
        }
      ],
      "source": [
        "import moviepy.video.io.ImageSequenceClip\n",
        "\n",
        "video_name='video'\n",
        "fps=10\n",
        "\n",
        "fps = fps\n",
        "files = os.listdir(image_folder)\n",
        "train_index = []\n",
        "for file in files:\n",
        "    if file[0].isdigit() and file.endswith('.jpg'):\n",
        "        train_index.append(int(file[:-4]))\n",
        "\n",
        "train_index = np.sort(train_index)\n",
        "\n",
        "image_files = [image_folder+'/'+str(train_index[index])+'.jpg' for index in train_index]\n",
        "\n",
        "clip = moviepy.video.io.ImageSequenceClip.ImageSequenceClip(image_files, fps=fps)\n",
        "clip.write_videofile(video_name+'.mp4')"
      ]
    },
    {
      "cell_type": "code",
      "execution_count": 43,
      "metadata": {},
      "outputs": [
        {
          "data": {
            "image/png": "[encoded data removed]",
            "text/plain": [
              "<Figure size 1000x800 with 28 Axes>"
            ]
          },
          "metadata": {},
          "output_type": "display_data"
        }
      ],
      "source": [
        "def prune_neuron():\n",
        "    # print(model.acts_scale)\n",
        "    # for i in model.acts_scale:\n",
        "    #     print(torch.mean(i))\n",
        "    #     print(i.type())\n",
        "    model.prune(threshold=1e-4)\n",
        "    model.plot()\n",
        "\n",
        "    \n",
        "\n",
        "    # acts_scale_mean = torch.mean(model.acts_scale)\n",
        "    # print(acts_scale_mean)\n",
        "\n",
        "prune_neuron()"
      ]
    },
    {
      "cell_type": "code",
      "execution_count": 10,
      "metadata": {},
      "outputs": [
        {
          "name": "stderr",
          "output_type": "stream",
          "text": [
            "/home/ab95113/anaconda3/envs/ldm/lib/python3.9/site-packages/torch/nn/init.py:452: UserWarning: Initializing zero-element tensors is a no-op\n",
            "  warnings.warn(\"Initializing zero-element tensors is a no-op\")\n",
            "/home/ab95113/anaconda3/envs/ldm/lib/python3.9/site-packages/kan/KAN.py:139: RuntimeWarning: divide by zero encountered in scalar divide\n",
            "  scale_base = 1 / np.sqrt(width[l]) + (torch.randn(width[l] * width[l + 1], ) * 2 - 1) * noise_scale_base\n",
            "/home/ab95113/anaconda3/envs/ldm/lib/python3.9/site-packages/kan/KAN.py:683: RuntimeWarning: divide by zero encountered in scalar divide\n",
            "  spacing = A / n\n"
          ]
        },
        {
          "data": {
            "image/png": "[encoded data removed]",
            "text/plain": [
              "<Figure size 500x400 with 1 Axes>"
            ]
          },
          "metadata": {},
          "output_type": "display_data"
        }
      ],
      "source": [
        "model.prune()\n",
        "model.plot(mask=True)"
      ]
    },
    {
      "cell_type": "markdown",
      "metadata": {
        "id": "CBD58aME1Rvd"
      },
      "source": [
        "# Implementation of a Neural Network for comparison"
      ]
    },
    {
      "cell_type": "markdown",
      "metadata": {
        "id": "ZeOsPZiB9MSS"
      },
      "source": [
        "## Misc Functions"
      ]
    },
    {
      "cell_type": "code",
      "execution_count": 30,
      "metadata": {
        "id": "WxOUQTTiuAja"
      },
      "outputs": [],
      "source": [
        "class CalHousNet(nn.Module):\n",
        "    def __init__(self):\n",
        "        super(CalHousNet, self).__init__()\n",
        "        self.fc1 = nn.Linear(8, 3)  # 8 inputs to 5 hidden nodes\n",
        "        self.relu = nn.ReLU()\n",
        "        self.fc2 = nn.Linear(3, 1)  # 5 hidden nodes to 3 outputs\n",
        "\n",
        "    def forward(self, x):\n",
        "        x = self.fc1(x)\n",
        "        x = self.relu(x)\n",
        "        x = self.fc2(x)\n",
        "        return x\n",
        "\n",
        "def train_model(model, train_loader, criterion, optimizer, num_epochs=25):\n",
        "    model.train()\n",
        "    for epoch in range(num_epochs):\n",
        "        for inputs, labels in train_loader:\n",
        "            inputs, labels = inputs.to(device), labels.to(device)  # Move data to the specified device\n",
        "            optimizer.zero_grad()\n",
        "            outputs = model(inputs)\n",
        "            loss = criterion(outputs, labels)\n",
        "            loss.backward()\n",
        "            optimizer.step()\n",
        "        print(f'Epoch {epoch+1}, Loss: {loss.item()}')\n",
        "\n",
        "def test_model(model, test_loader):\n",
        "    model.eval()\n",
        "    total_loss = 0.0\n",
        "    total_count = 0\n",
        "    with torch.no_grad():\n",
        "        for inputs, labels in test_loader:\n",
        "            inputs, labels = inputs.to(device), labels.to(device)  # Move data to the specified device\n",
        "            outputs = model(inputs)\n",
        "            loss = torch.nn.functional.mse_loss(outputs, labels, reduction='sum')\n",
        "            total_loss += loss.item()\n",
        "            total_count += labels.size(0)\n",
        "\n",
        "    # Calculate the average MSE over all batches\n",
        "    average_mse = total_loss / total_count\n",
        "    print(f'Mean Squared Error: {average_mse}')"
      ]
    },
    {
      "cell_type": "code",
      "execution_count": 31,
      "metadata": {
        "id": "B-99o3TR1uN1"
      },
      "outputs": [],
      "source": [
        "def load_calhous_dataset():\n",
        "    # Load California housing dataset\n",
        "    calhous = fetch_california_housing()\n",
        "    data = calhous.data\n",
        "    target = calhous.target\n",
        "\n",
        "    scaler = StandardScaler()\n",
        "    data = scaler.fit_transform(data)\n",
        "\n",
        "    # Convert to PyTorch tensors\n",
        "    data_tensor = torch.tensor(data, dtype=torch.float32)\n",
        "    target_tensor = torch.tensor(target, dtype=torch.float32).reshape(-1, 1)\n",
        "\n",
        "    # Split dataset into train and test sets\n",
        "    train_data, test_data, train_target, test_target = train_test_split(data_tensor, target_tensor, test_size=0.2, random_state=42)\n",
        "\n",
        "    # Create data loaders (optional, if you want to batch and shuffle the data)\n",
        "    train_loader = torch.utils.data.DataLoader(torch.utils.data.TensorDataset(train_data, train_target), batch_size=256, shuffle=True)\n",
        "    test_loader = torch.utils.data.DataLoader(torch.utils.data.TensorDataset(test_data, test_target), batch_size=256, shuffle=False)\n",
        "\n",
        "    return train_loader, test_loader\n",
        "\n",
        "train_loader, test_loader = load_calhous_dataset()"
      ]
    },
    {
      "cell_type": "code",
      "execution_count": 32,
      "metadata": {
        "colab": {
          "base_uri": "https://localhost:8080/"
        },
        "id": "FJYeBGm9vj28",
        "outputId": "1b10911b-f937-4f21-8cc7-586b74cac384"
      },
      "outputs": [
        {
          "name": "stdout",
          "output_type": "stream",
          "text": [
            "Train data shape: torch.Size([256, 8])\n",
            "Train target shape: torch.Size([256, 1])\n",
            "Test data shape: torch.Size([256, 8])\n",
            "Test target shape: torch.Size([256, 1])\n",
            "====================================\n"
          ]
        }
      ],
      "source": [
        "dataiter = iter(train_loader)\n",
        "data, labels = next(dataiter)\n",
        "print(\"Train data shape: {}\".format(data.shape))\n",
        "print(\"Train target shape: {}\".format(labels.shape))\n",
        "dataiter = iter(test_loader)\n",
        "data, labels = next(dataiter)\n",
        "print(\"Test data shape: {}\".format(data.shape))\n",
        "print(\"Test target shape: {}\".format(labels.shape))\n",
        "print(\"====================================\")"
      ]
    },
    {
      "cell_type": "markdown",
      "metadata": {
        "id": "Hg219SyH9NrO"
      },
      "source": [
        "## Train and Evaluate the NN"
      ]
    },
    {
      "cell_type": "code",
      "execution_count": 39,
      "metadata": {
        "colab": {
          "base_uri": "https://localhost:8080/"
        },
        "id": "DbsyfVGd1cX1",
        "outputId": "e5b8d8b7-abda-4f53-fa54-f38c83f3b561"
      },
      "outputs": [
        {
          "name": "stdout",
          "output_type": "stream",
          "text": [
            "Epoch 1, Loss: 0.4219062328338623\n",
            "Epoch 2, Loss: 0.3958625793457031\n",
            "Epoch 3, Loss: 0.60777747631073\n",
            "Epoch 4, Loss: 0.4032108187675476\n",
            "Epoch 5, Loss: 0.53156977891922\n",
            "Epoch 6, Loss: 0.369201123714447\n",
            "Epoch 7, Loss: 0.38792598247528076\n",
            "Epoch 8, Loss: 0.3532750904560089\n",
            "Epoch 9, Loss: 0.45827460289001465\n",
            "Epoch 10, Loss: 0.37610071897506714\n",
            "Epoch 11, Loss: 0.4075508713722229\n",
            "Epoch 12, Loss: 0.34727638959884644\n",
            "Epoch 13, Loss: 0.38326650857925415\n",
            "Epoch 14, Loss: 0.47997379302978516\n",
            "Epoch 15, Loss: 0.34976959228515625\n",
            "Epoch 16, Loss: 0.35272204875946045\n",
            "Epoch 17, Loss: 0.4133983254432678\n",
            "Epoch 18, Loss: 0.38844433426856995\n",
            "Epoch 19, Loss: 0.4431101083755493\n",
            "Epoch 20, Loss: 0.43064963817596436\n",
            "Epoch 21, Loss: 0.46665117144584656\n",
            "Epoch 22, Loss: 0.29027053713798523\n",
            "Epoch 23, Loss: 0.354431688785553\n",
            "Epoch 24, Loss: 0.38052132725715637\n",
            "Epoch 25, Loss: 0.3014281392097473\n"
          ]
        }
      ],
      "source": [
        "model = CalHousNet().to(device)\n",
        "criterion = torch.nn.MSELoss()\n",
        "optimizer = torch.optim.Adam(model.parameters(), lr=0.05)\n",
        "\n",
        "train_model(model, train_loader, criterion, optimizer)"
      ]
    },
    {
      "cell_type": "code",
      "execution_count": 38,
      "metadata": {
        "colab": {
          "base_uri": "https://localhost:8080/"
        },
        "id": "zw5MP7SSwmOq",
        "outputId": "89d40fbe-1dcb-486b-8ac7-df08c4cc5f05"
      },
      "outputs": [
        {
          "name": "stdout",
          "output_type": "stream",
          "text": [
            "Mean Squared Error: 0.40601525045642556\n"
          ]
        }
      ],
      "source": [
        "test_model(model, test_loader)"
      ]
    }
  ],
  "metadata": {
    "accelerator": "GPU",
    "colab": {
      "collapsed_sections": [
        "LRMpDTp_cVt5",
        "7RE1svm9cXkX"
      ],
      "gpuType": "A100",
      "machine_shape": "hm",
      "provenance": []
    },
    "kernelspec": {
      "display_name": "Python 3",
      "name": "python3"
    },
    "language_info": {
      "codemirror_mode": {
        "name": "ipython",
        "version": 3
      },
      "file_extension": ".py",
      "mimetype": "text/x-python",
      "name": "python",
      "nbconvert_exporter": "python",
      "pygments_lexer": "ipython3",
      "version": "3.9.19"
    }
  },
  "nbformat": 4,
  "nbformat_minor": 0
}
